{
 "cells": [
  {
   "cell_type": "code",
   "execution_count": 5,
   "metadata": {},
   "outputs": [
    {
     "name": "stderr",
     "output_type": "stream",
     "text": [
      "<>:2: SyntaxWarning: invalid escape sequence '\\W'\n",
      "<>:2: SyntaxWarning: invalid escape sequence '\\W'\n",
      "C:\\Users\\Welcome\\AppData\\Local\\Temp\\ipykernel_13640\\3015849705.py:2: SyntaxWarning: invalid escape sequence '\\W'\n",
      "  file_path =\"C:\\\\Users\\Welcome\\OneDrive\\Desktop\\population_density_per_square_km.xlsx\"\n"
     ]
    },
    {
     "name": "stdout",
     "output_type": "stream",
     "text": [
      "       country  1950  1951  1952  1953  1954  1955  1956  1957  1958  ...  \\\n",
      "0        Aruba   237   244   250   257   264   271   278   285   293  ...   \n",
      "1  Afghanistan    12  12.1  12.3  12.5  12.6  12.8    13  13.2  13.4  ...   \n",
      "2       Angola  3.65  3.69  3.73  3.77  3.82  3.88  3.93     4  4.06  ...   \n",
      "3     Anguilla  56.8  59.2    61  62.5  64.1  65.2  65.7  65.9  65.8  ...   \n",
      "4      Albania  45.5  46.6  47.8    49  50.4  51.8  53.2  54.7  56.4  ...   \n",
      "\n",
      "   2091  2092  2093  2094  2095  2096 2097  2098  2099  2100  \n",
      "0   443   440   437   435   432   429  426   423   420   418  \n",
      "1   191   192   193   195   196   197  198   199   200   201  \n",
      "2   111   112   114   115   116   117  118   119   119   120  \n",
      "3   117   116   115   113   112   111  110   108   107   106  \n",
      "4  49.1  48.3  47.6  46.9  46.3  45.6   45  44.4  43.8  43.3  \n",
      "\n",
      "[5 rows x 152 columns]\n"
     ]
    }
   ],
   "source": [
    "import pandas as pd\n",
    "file_path =\"C:\\\\Users\\Welcome\\OneDrive\\Desktop\\population_density_per_square_km.xlsx\"\n",
    "df_population_density_per_square_km = pd.read_excel(file_path)\n",
    "print(df_population_density_per_square_km.head())"
   ]
  }
 ],
 "metadata": {
  "kernelspec": {
   "display_name": "Python 3",
   "language": "python",
   "name": "python3"
  },
  "language_info": {
   "codemirror_mode": {
    "name": "ipython",
    "version": 3
   },
   "file_extension": ".py",
   "mimetype": "text/x-python",
   "name": "python",
   "nbconvert_exporter": "python",
   "pygments_lexer": "ipython3",
   "version": "3.13.2"
  }
 },
 "nbformat": 4,
 "nbformat_minor": 2
}
